{
 "cells": [
  {
   "cell_type": "code",
   "execution_count": null,
   "metadata": {
    "collapsed": true
   },
   "outputs": [],
   "source": [
    "import sys, os\n",
    "import pandas as pd\n",
    "from revoscalepy import *\n",
    "from pyspark import SparkConf, SparkContext\n",
    "from pyspark.sql import SparkSession\n",
    "\n",
    "RxOptions.set_option('spark.executorMem', '1g')"
   ]
  },
  {
   "cell_type": "code",
   "execution_count": null,
   "metadata": {
    "collapsed": true
   },
   "outputs": [],
   "source": [
    "dirpath = RxOptions.get_option(\"sampleDataDir\")\n",
    "\n",
    "# CSV File (Raw Data for one month)\n",
    "airlineDemoPathCSV = os.path.join(dirpath, \"AirlineDemoSmall.csv\")\n",
    "\n",
    "df = pd.read_csv(airlineDemoPathCSV, dtype={'CRSDepTime': float,'DayOfWeek': 'category'})\n",
    "df = df[~df['ArrDelay'].apply(lambda x: x == 'M')]\n",
    "df = df.astype({\"ArrDelay\": int})\n"
   ]
  },
  {
   "cell_type": "code",
   "execution_count": null,
   "metadata": {},
   "outputs": [],
   "source": [
    "df.dtypes"
   ]
  },
  {
   "cell_type": "code",
   "execution_count": null,
   "metadata": {},
   "outputs": [],
   "source": [
    "cc = rx_spark_connect(master='spark://centos-7-spark.shared:7077', \n",
    "                      executor_cores = 1, console_output = True, interop='pyspark', reset=True)"
   ]
  },
  {
   "cell_type": "code",
   "execution_count": null,
   "metadata": {
    "collapsed": true
   },
   "outputs": [],
   "source": [
    "sc = rx_get_pyspark_connection(cc)\n",
    "spark = SparkSession(sc)\n",
    "spark_df = spark.createDataFrame(df)\n",
    "trainDS = RxSparkDataFrame(data = spark_df)"
   ]
  },
  {
   "cell_type": "code",
   "execution_count": null,
   "metadata": {},
   "outputs": [],
   "source": [
    "linmod = rx_lin_mod(\"ArrDelay ~ CRSDepTime\", data=trainDS)"
   ]
  },
  {
   "cell_type": "code",
   "execution_count": null,
   "metadata": {},
   "outputs": [],
   "source": [
    "linmod"
   ]
  },
  {
   "cell_type": "code",
   "execution_count": null,
   "metadata": {},
   "outputs": [],
   "source": [
    "rx_spark_disconnect(cc)"
   ]
  },
  {
   "cell_type": "code",
   "execution_count": null,
   "metadata": {
    "collapsed": true
   },
   "outputs": [],
   "source": []
  }
 ],
 "metadata": {
  "kernelspec": {
   "display_name": "Python [default]",
   "language": "python",
   "name": "python3"
  },
  "language_info": {
   "codemirror_mode": {
    "name": "ipython",
    "version": 3
   },
   "file_extension": ".py",
   "mimetype": "text/x-python",
   "name": "python",
   "nbconvert_exporter": "python",
   "pygments_lexer": "ipython3",
   "version": "3.5.2"
  }
 },
 "nbformat": 4,
 "nbformat_minor": 1
}
