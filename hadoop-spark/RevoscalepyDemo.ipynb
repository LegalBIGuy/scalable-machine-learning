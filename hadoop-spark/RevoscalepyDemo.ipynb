{
 "cells": [
  {
   "cell_type": "code",
   "execution_count": null,
   "metadata": {
    "collapsed": true
   },
   "outputs": [],
   "source": [
    "import sys, os\n",
    "import pandas as pd\n",
    "from revoscalepy import *\n",
    "\n",
    "RxOptions.set_option('spark.executorMem', '1g')"
   ]
  },
  {
   "cell_type": "code",
   "execution_count": null,
   "metadata": {},
   "outputs": [],
   "source": [
    "dirpath = RxOptions.get_option(\"sampleDataDir\")\n",
    "\n",
    "claimsXdf = os.path.join(dirpath, \"claims.xdf\")\n",
    "\n",
    "claims = RxXdfData(file = claimsXdf)\n",
    "\n",
    "rx_get_info(claims, get_var_info=True)"
   ]
  },
  {
   "cell_type": "code",
   "execution_count": null,
   "metadata": {},
   "outputs": [],
   "source": [
    "inputDir = \"/user/parallels\"\n",
    "\n",
    "rx_hadoop_copy_from_local(claimsXdf, inputDir)"
   ]
  },
  {
   "cell_type": "code",
   "execution_count": null,
   "metadata": {
    "collapsed": true
   },
   "outputs": [],
   "source": [
    "hdfsFS = RxHdfsFileSystem()\n",
    "claimsHdfs = os.path.join(inputDir, \"claims.xdf\")\n",
    "\n",
    "claimsDS = RxXdfData(file = claimsHdfs,file_system = hdfsFS)"
   ]
  },
  {
   "cell_type": "code",
   "execution_count": null,
   "metadata": {},
   "outputs": [],
   "source": [
    "cc = rx_spark_connect(master='spark://centos-7-spark.shared:7077', \n",
    "                      executor_cores = 1, reset=True)"
   ]
  },
  {
   "cell_type": "code",
   "execution_count": null,
   "metadata": {
    "collapsed": true
   },
   "outputs": [],
   "source": [
    "linmod = rx_lin_mod(\"number ~ age\", data=claimsDS)"
   ]
  },
  {
   "cell_type": "code",
   "execution_count": null,
   "metadata": {},
   "outputs": [],
   "source": [
    "linmod"
   ]
  },
  {
   "cell_type": "code",
   "execution_count": null,
   "metadata": {},
   "outputs": [],
   "source": [
    "rx_spark_disconnect(cc)"
   ]
  },
  {
   "cell_type": "code",
   "execution_count": null,
   "metadata": {
    "collapsed": true
   },
   "outputs": [],
   "source": []
  }
 ],
 "metadata": {
  "kernelspec": {
   "display_name": "Python [default]",
   "language": "python",
   "name": "python3"
  },
  "language_info": {
   "codemirror_mode": {
    "name": "ipython",
    "version": 3
   },
   "file_extension": ".py",
   "mimetype": "text/x-python",
   "name": "python",
   "nbconvert_exporter": "python",
   "pygments_lexer": "ipython3",
   "version": "3.5.2"
  }
 },
 "nbformat": 4,
 "nbformat_minor": 1
}
